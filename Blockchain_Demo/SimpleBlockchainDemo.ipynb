{
 "cells": [
  {
   "cell_type": "markdown",
   "id": "467926bb",
   "metadata": {},
   "source": [
    "# Blockchain Demo"
   ]
  },
  {
   "cell_type": "markdown",
   "id": "799b4761",
   "metadata": {},
   "source": [
    "This Jupyter notebook will provide a demonstration of a simple implementation of blockchain with prescription data."
   ]
  },
  {
   "cell_type": "markdown",
   "id": "bc46bb31",
   "metadata": {},
   "source": [
    "## Import libraries/modules"
   ]
  },
  {
   "cell_type": "code",
   "execution_count": null,
   "id": "52477ee5",
   "metadata": {},
   "outputs": [],
   "source": [
    "import hashlib\n",
    "import json\n",
    "from time import time"
   ]
  },
  {
   "cell_type": "markdown",
   "id": "3f8c3ee1",
   "metadata": {},
   "source": [
    "## Define classes/functions"
   ]
  },
  {
   "cell_type": "code",
   "execution_count": null,
   "id": "a5503477",
   "metadata": {},
   "outputs": [],
   "source": [
    "class Block:\n",
    "    def __init__(self, index, transactions, timestamp, previous_hash):\n",
    "        self.index = index\n",
    "        self.transactions = transactions  # list of prescriptions\n",
    "        self.timestamp = timestamp\n",
    "        self.previous_hash = previous_hash\n",
    "        self.hash = self.compute_hash()\n",
    "\n",
    "    def compute_hash(self):\n",
    "        block_string = json.dumps(self.__dict__, sort_keys=True)\n",
    "        return hashlib.sha256(block_string.encode()).hexdigest()\n",
    "\n",
    "\n",
    "class Blockchain:\n",
    "    def __init__(self):\n",
    "        self.unconfirmed_txns = []\n",
    "        self.chain = []\n",
    "        self.create_genesis_block()\n",
    "\n",
    "    def create_genesis_block(self):\n",
    "        genesis_block = Block(0, [], time(), \"0\")\n",
    "        self.chain.append(genesis_block)\n",
    "\n",
    "    def last_block(self):\n",
    "        return self.chain[-1]\n",
    "\n",
    "    def add_transaction(self, prescription):\n",
    "        self.unconfirmed_txns.append(prescription)\n",
    "\n",
    "    def mine_block(self):\n",
    "        if not self.unconfirmed_txns:\n",
    "            return False\n",
    "\n",
    "        last_block = self.last_block()\n",
    "        new_block = Block(\n",
    "            index=last_block.index + 1,\n",
    "            transactions=self.unconfirmed_txns,\n",
    "            timestamp=time(),\n",
    "            previous_hash=last_block.hash\n",
    "        )\n",
    "        self.chain.append(new_block)\n",
    "        self.unconfirmed_txns = []\n",
    "        return new_block\n",
    "    \n"
   ]
  },
  {
   "cell_type": "markdown",
   "id": "ad3fdcbf",
   "metadata": {},
   "source": [
    "## Demonstrate usage"
   ]
  },
  {
   "cell_type": "code",
   "execution_count": null,
   "id": "7c991e8f",
   "metadata": {},
   "outputs": [],
   "source": [
    "# Create blockchain\n",
    "rx_chain = Blockchain()\n",
    "\n",
    "# Add sample prescriptions\n",
    "rx_chain.add_transaction({\n",
    "    \"patient_id\": \"P12345\",\n",
    "    \"prescriber_id\": \"MD6789\",\n",
    "    \"drug_name\": \"Atorvastatin 20mg\",\n",
    "    \"quantity\": 30,\n",
    "    \"date_written\": \"2025-10-26\",\n",
    "    \"pharmacy_id\": \"RX001\"\n",
    "})\n",
    "rx_chain.add_transaction({\n",
    "    \"patient_id\": \"P54321\",\n",
    "    \"prescriber_id\": \"MD1111\",\n",
    "    \"drug_name\": \"Lisinopril 10mg\",\n",
    "    \"quantity\": 90,\n",
    "    \"date_written\": \"2025-10-26\",\n",
    "    \"pharmacy_id\": \"RX002\"\n",
    "})\n",
    "\n",
    "# Mine a block\n",
    "new_block = rx_chain.mine_block()\n",
    "print(f\"New Block #{new_block.index} mined with hash: {new_block.hash}\")\n",
    "\n",
    "# Display blockchain contents\n",
    "for block in rx_chain.chain:\n",
    "    print(json.dumps(block.__dict__, indent=2))\n"
   ]
  },
  {
   "cell_type": "code",
   "execution_count": null,
   "id": "132bcda3",
   "metadata": {},
   "outputs": [],
   "source": []
  }
 ],
 "metadata": {
  "kernelspec": {
   "display_name": "Python 3",
   "language": "python",
   "name": "python3"
  },
  "language_info": {
   "codemirror_mode": {
    "name": "ipython",
    "version": 3
   },
   "file_extension": ".py",
   "mimetype": "text/x-python",
   "name": "python",
   "nbconvert_exporter": "python",
   "pygments_lexer": "ipython3",
   "version": "3.10.0"
  }
 },
 "nbformat": 4,
 "nbformat_minor": 5
}
