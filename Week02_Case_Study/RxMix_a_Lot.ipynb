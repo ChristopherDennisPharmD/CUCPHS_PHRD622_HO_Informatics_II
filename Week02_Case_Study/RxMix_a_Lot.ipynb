{
 "cells": [
  {
   "cell_type": "markdown",
   "id": "a7229148",
   "metadata": {},
   "source": [
    "# Week #2 Case Study: RxMix-a-Lot"
   ]
  },
  {
   "cell_type": "markdown",
   "id": "678f3857",
   "metadata": {},
   "source": [
    "This Jupyter notebook will demonstrate how to perform the essential steps of the case study with Python using the relevant application programming interfaces (APIs)."
   ]
  },
  {
   "cell_type": "markdown",
   "id": "70b38a73",
   "metadata": {},
   "source": [
    "## Import libraries/modules"
   ]
  },
  {
   "cell_type": "code",
   "execution_count": 63,
   "id": "8ca00d7b",
   "metadata": {},
   "outputs": [],
   "source": [
    "import requests\n",
    "import pandas as pd\n",
    "import time"
   ]
  },
  {
   "cell_type": "markdown",
   "id": "f7bd2db4",
   "metadata": {},
   "source": [
    "## Define functions"
   ]
  },
  {
   "cell_type": "code",
   "execution_count": 64,
   "id": "8d565869",
   "metadata": {},
   "outputs": [],
   "source": [
    "# Define functions for translating between concepts\n",
    "\n",
    "def get_rxcui_from_ndc(ndc):\n",
    "    url = 'https://rxnav.nlm.nih.gov/REST/rxcui.json'\n",
    "    params = {\n",
    "        'idtype': 'NDC',\n",
    "        'id': ndc,\n",
    "        'allsrc': '0'\n",
    "    }\n",
    "    try:\n",
    "        resp = requests.get(url, params=params, timeout=10)\n",
    "        resp.raise_for_status()\n",
    "        data = resp.json()\n",
    "        return data.get('idGroup', {}).get('rxnormId', [None])[0]\n",
    "    except requests.RequestException as e:\n",
    "        print(f\"Failed to get RxCUI for NDC {ndc}: {e}\")\n",
    "        return None\n",
    "\n",
    "def get_cvx_from_rxcui(rxcui):\n",
    "    \"\"\"Get CVX code for an RxCUI by checking its relationships\"\"\"\n",
    "    # First get ingredient information\n",
    "    url = f'https://rxnav.nlm.nih.gov/REST/rxcui/{rxcui}/property.json'\n",
    "    params = {\n",
    "        'propName': 'CVX'\n",
    "    }\n",
    "    try:\n",
    "        resp = requests.get(url, params=params, timeout=10)\n",
    "        resp.raise_for_status()\n",
    "        data = resp.json()\n",
    "        return data.get('propConceptGroup', {}) \\\n",
    "            .get('propConcept', [{}])[0] \\\n",
    "            .get('propValue')\n",
    "    except:\n",
    "        None\n",
    "\n",
    "def build_ndc_rxcui_cvx_crosswalk(ndc_list):\n",
    "    records = []\n",
    "    for ndc in ndc_list:\n",
    "        rxcui = get_rxcui_from_ndc(ndc)\n",
    "        cvx = get_cvx_from_rxcui(rxcui) if rxcui else None\n",
    "        records.append({\n",
    "            'NDC': ndc,\n",
    "            'RxCUI': rxcui,\n",
    "            'CVX': cvx\n",
    "        })\n",
    "        time.sleep(0.2)  # Gentle pause to avoid rate limits\n",
    "    return pd.DataFrame(records)"
   ]
  },
  {
   "cell_type": "markdown",
   "id": "7e911a54",
   "metadata": {},
   "source": [
    "## Import the NDC data from the flat file"
   ]
  },
  {
   "cell_type": "code",
   "execution_count": 65,
   "id": "4f88385c",
   "metadata": {},
   "outputs": [
    {
     "name": "stdout",
     "output_type": "stream",
     "text": [
      "['13533-131-00', '14362-0111-3', '49281-215-88', '50090-2062-1', '50090-1377-2', '58160-842-05']\n"
     ]
    }
   ],
   "source": [
    "# Get the data from 'Tetanus NDC Batch.txt'\n",
    "# The strip method removes whitespace characters such as the \\n that\n",
    "# separates each line in the file.\n",
    "with open('Tetanus NDC Batch.txt', 'r') as file:\n",
    "    ndc_list = [ndc.strip() for ndc in file]\n",
    "\n",
    "# Print the list of NDCs that we are starting with.\n",
    "print(ndc_list)"
   ]
  },
  {
   "cell_type": "markdown",
   "id": "cb02e158",
   "metadata": {},
   "source": [
    "## Build a dataframe that shows the crosswalk between terms"
   ]
  },
  {
   "cell_type": "code",
   "execution_count": 66,
   "id": "545ebc16",
   "metadata": {},
   "outputs": [
    {
     "name": "stdout",
     "output_type": "stream",
     "text": [
      "            NDC    RxCUI  CVX\n",
      "0  13533-131-00  2106334   09\n",
      "1  14362-0111-3  2106334   09\n",
      "2  49281-215-88  1190919  113\n",
      "3  50090-2062-1  1190919  113\n",
      "4  50090-1377-2  1300370  115\n",
      "5  58160-842-05  1300370  115\n"
     ]
    }
   ],
   "source": [
    "# Build the crosswalk\n",
    "df_crosswalk = build_ndc_rxcui_cvx_crosswalk(ndc_list)\n",
    "\n",
    "# Print the dataframe\n",
    "print(df_crosswalk)"
   ]
  }
 ],
 "metadata": {
  "kernelspec": {
   "display_name": "base",
   "language": "python",
   "name": "python3"
  },
  "language_info": {
   "codemirror_mode": {
    "name": "ipython",
    "version": 3
   },
   "file_extension": ".py",
   "mimetype": "text/x-python",
   "name": "python",
   "nbconvert_exporter": "python",
   "pygments_lexer": "ipython3",
   "version": "3.12.7"
  }
 },
 "nbformat": 4,
 "nbformat_minor": 5
}
